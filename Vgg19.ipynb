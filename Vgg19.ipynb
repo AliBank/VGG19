{
  "cells": [
    {
      "cell_type": "markdown",
      "metadata": {
        "id": "view-in-github",
        "colab_type": "text"
      },
      "source": [
        "<a href=\"https://colab.research.google.com/github/AliBank/VGG19/blob/main/Vgg19.ipynb\" target=\"_parent\"><img src=\"https://colab.research.google.com/assets/colab-badge.svg\" alt=\"Open In Colab\"/></a>"
      ]
    },
    {
      "cell_type": "code",
      "execution_count": null,
      "metadata": {
        "colab": {
          "base_uri": "https://localhost:8080/"
        },
        "id": "6y7zlyvpFAtg",
        "outputId": "69be39b8-e57d-468d-9eeb-875af304151c"
      },
      "outputs": [
        {
          "name": "stdout",
          "output_type": "stream",
          "text": [
            "Mounted at /content/drive\n"
          ]
        }
      ],
      "source": [
        "from google.colab import drive\n",
        "drive.mount('/content/drive')"
      ]
    },
    {
      "cell_type": "code",
      "execution_count": null,
      "metadata": {
        "id": "hmIq6G4Q27gj"
      },
      "outputs": [],
      "source": [
        "!pip install -q keras\n",
        "!pip install h5py pyyaml"
      ]
    },
    {
      "cell_type": "code",
      "execution_count": null,
      "metadata": {
        "id": "TlLw-d9F3FA_"
      },
      "outputs": [],
      "source": [
        "from keras.preprocessing.image import ImageDataGenerator\n",
        "from keras.utils import to_categorical\n",
        "from keras.optimizers import RMSprop\n",
        "from tensorflow.keras.utils import img_to_array\n",
        "from tensorflow.keras.utils import load_img\n",
        "from keras.models import Sequential\n",
        "from keras.layers import Dense\n",
        "from keras.layers import Flatten\n",
        "from keras.applications.vgg19 import VGG19\n",
        "import matplotlib.pyplot as plt\n",
        "import cv2\n",
        "import numpy as np\n",
        "from glob import glob\n",
        "from keras.utils import to_categorical\n",
        "from __future__ import absolute_import, division, print_function\n",
        "import os\n",
        "import tensorflow as tf\n",
        "from tensorflow import keras\n",
        "from tensorflow.keras import layers\n",
        "from tensorflow.keras import Model\n",
        "from tensorflow.keras.layers import Conv2D, AveragePooling2D, GlobalAveragePooling2D"
      ]
    },
    {
      "cell_type": "code",
      "execution_count": null,
      "metadata": {
        "id": "mVQRqzfj39Vu"
      },
      "outputs": [],
      "source": [
        "train_path=\"/content/drive/MyDrive/BaklagilDataSet/DB3_Histeq/fold1/train/images/\"\n",
        "test_path=\"/content/drive/MyDrive/BaklagilDataSet/DB3_Histeq/fold1/test/images/\""
      ]
    },
    {
      "cell_type": "code",
      "execution_count": null,
      "metadata": {
        "id": "WaWu9-Cj4LPf"
      },
      "outputs": [],
      "source": [
        "numberOfClass=len(glob(train_path+\"/*\"))"
      ]
    },
    {
      "cell_type": "code",
      "execution_count": null,
      "metadata": {
        "colab": {
          "base_uri": "https://localhost:8080/"
        },
        "id": "tYb95waTlV_W",
        "outputId": "cfe177c6-bcb6-4aa7-a73a-77af11edf42a"
      },
      "outputs": [
        {
          "name": "stdout",
          "output_type": "stream",
          "text": [
            "30\n"
          ]
        }
      ],
      "source": [
        "print(numberOfClass)"
      ]
    },
    {
      "cell_type": "code",
      "execution_count": null,
      "metadata": {
        "colab": {
          "base_uri": "https://localhost:8080/"
        },
        "id": "IAQJU_m3l6si",
        "outputId": "c7930bcf-d439-4f9c-eb84-14a699c6324c"
      },
      "outputs": [
        {
          "name": "stdout",
          "output_type": "stream",
          "text": [
            "Downloading data from https://storage.googleapis.com/tensorflow/keras-applications/vgg19/vgg19_weights_tf_dim_ordering_tf_kernels.h5\n",
            "574710816/574710816 [==============================] - 20s 0us/step\n"
          ]
        }
      ],
      "source": [
        "vgg= VGG19()"
      ]
    },
    {
      "cell_type": "code",
      "execution_count": null,
      "metadata": {
        "colab": {
          "base_uri": "https://localhost:8080/"
        },
        "id": "j2vBhqZQmFFB",
        "outputId": "99645995-feb2-4934-995b-a6357c8c69e8"
      },
      "outputs": [
        {
          "name": "stdout",
          "output_type": "stream",
          "text": [
            "Model: \"vgg19\"\n",
            "_________________________________________________________________\n",
            " Layer (type)                Output Shape              Param #   \n",
            "=================================================================\n",
            " input_1 (InputLayer)        [(None, 224, 224, 3)]     0         \n",
            "                                                                 \n",
            " block1_conv1 (Conv2D)       (None, 224, 224, 64)      1792      \n",
            "                                                                 \n",
            " block1_conv2 (Conv2D)       (None, 224, 224, 64)      36928     \n",
            "                                                                 \n",
            " block1_pool (MaxPooling2D)  (None, 112, 112, 64)      0         \n",
            "                                                                 \n",
            " block2_conv1 (Conv2D)       (None, 112, 112, 128)     73856     \n",
            "                                                                 \n",
            " block2_conv2 (Conv2D)       (None, 112, 112, 128)     147584    \n",
            "                                                                 \n",
            " block2_pool (MaxPooling2D)  (None, 56, 56, 128)       0         \n",
            "                                                                 \n",
            " block3_conv1 (Conv2D)       (None, 56, 56, 256)       295168    \n",
            "                                                                 \n",
            " block3_conv2 (Conv2D)       (None, 56, 56, 256)       590080    \n",
            "                                                                 \n",
            " block3_conv3 (Conv2D)       (None, 56, 56, 256)       590080    \n",
            "                                                                 \n",
            " block3_conv4 (Conv2D)       (None, 56, 56, 256)       590080    \n",
            "                                                                 \n",
            " block3_pool (MaxPooling2D)  (None, 28, 28, 256)       0         \n",
            "                                                                 \n",
            " block4_conv1 (Conv2D)       (None, 28, 28, 512)       1180160   \n",
            "                                                                 \n",
            " block4_conv2 (Conv2D)       (None, 28, 28, 512)       2359808   \n",
            "                                                                 \n",
            " block4_conv3 (Conv2D)       (None, 28, 28, 512)       2359808   \n",
            "                                                                 \n",
            " block4_conv4 (Conv2D)       (None, 28, 28, 512)       2359808   \n",
            "                                                                 \n",
            " block4_pool (MaxPooling2D)  (None, 14, 14, 512)       0         \n",
            "                                                                 \n",
            " block5_conv1 (Conv2D)       (None, 14, 14, 512)       2359808   \n",
            "                                                                 \n",
            " block5_conv2 (Conv2D)       (None, 14, 14, 512)       2359808   \n",
            "                                                                 \n",
            " block5_conv3 (Conv2D)       (None, 14, 14, 512)       2359808   \n",
            "                                                                 \n",
            " block5_conv4 (Conv2D)       (None, 14, 14, 512)       2359808   \n",
            "                                                                 \n",
            " block5_pool (MaxPooling2D)  (None, 7, 7, 512)         0         \n",
            "                                                                 \n",
            " flatten (Flatten)           (None, 25088)             0         \n",
            "                                                                 \n",
            " fc1 (Dense)                 (None, 4096)              102764544 \n",
            "                                                                 \n",
            " fc2 (Dense)                 (None, 4096)              16781312  \n",
            "                                                                 \n",
            " predictions (Dense)         (None, 1000)              4097000   \n",
            "                                                                 \n",
            "=================================================================\n",
            "Total params: 143,667,240\n",
            "Trainable params: 143,667,240\n",
            "Non-trainable params: 0\n",
            "_________________________________________________________________\n",
            "None\n"
          ]
        }
      ],
      "source": [
        "print(vgg.summary())"
      ]
    },
    {
      "cell_type": "code",
      "execution_count": null,
      "metadata": {
        "colab": {
          "base_uri": "https://localhost:8080/"
        },
        "id": "Fy4DTkNjmMkY",
        "outputId": "6b374774-f452-405b-b338-b339e9fa82d3"
      },
      "outputs": [
        {
          "name": "stdout",
          "output_type": "stream",
          "text": [
            "<class 'keras.engine.functional.Functional'>\n"
          ]
        }
      ],
      "source": [
        "print(type(vgg))"
      ]
    },
    {
      "cell_type": "code",
      "execution_count": null,
      "metadata": {
        "colab": {
          "base_uri": "https://localhost:8080/"
        },
        "id": "kDQcgN7JmRR3",
        "outputId": "afc8948a-ce33-451f-fe2d-3afd46ec5cb2"
      },
      "outputs": [
        {
          "name": "stdout",
          "output_type": "stream",
          "text": [
            "[<keras.engine.input_layer.InputLayer object at 0x7f48dbbfcbe0>, <keras.layers.convolutional.conv2d.Conv2D object at 0x7f48d918e130>, <keras.layers.convolutional.conv2d.Conv2D object at 0x7f4866fd61f0>, <keras.layers.pooling.max_pooling2d.MaxPooling2D object at 0x7f48d918e160>, <keras.layers.convolutional.conv2d.Conv2D object at 0x7f4866fc9a60>, <keras.layers.convolutional.conv2d.Conv2D object at 0x7f48632aa4c0>, <keras.layers.pooling.max_pooling2d.MaxPooling2D object at 0x7f4866fd6af0>, <keras.layers.convolutional.conv2d.Conv2D object at 0x7f48632aa760>, <keras.layers.convolutional.conv2d.Conv2D object at 0x7f486324f220>, <keras.layers.convolutional.conv2d.Conv2D object at 0x7f4863256f10>, <keras.layers.convolutional.conv2d.Conv2D object at 0x7f486325c220>, <keras.layers.pooling.max_pooling2d.MaxPooling2D object at 0x7f48632c6b80>, <keras.layers.convolutional.conv2d.Conv2D object at 0x7f4863268190>, <keras.layers.convolutional.conv2d.Conv2D object at 0x7f4863268610>, <keras.layers.convolutional.conv2d.Conv2D object at 0x7f486327cc70>, <keras.layers.convolutional.conv2d.Conv2D object at 0x7f486327cbb0>, <keras.layers.pooling.max_pooling2d.MaxPooling2D object at 0x7f486327cc40>, <keras.layers.convolutional.conv2d.Conv2D object at 0x7f4863282b20>, <keras.layers.convolutional.conv2d.Conv2D object at 0x7f48632863d0>, <keras.layers.convolutional.conv2d.Conv2D object at 0x7f4863286130>, <keras.layers.convolutional.conv2d.Conv2D object at 0x7f486328d4f0>, <keras.layers.pooling.max_pooling2d.MaxPooling2D object at 0x7f4863286820>, <keras.layers.reshaping.flatten.Flatten object at 0x7f48632110d0>, <keras.layers.core.dense.Dense object at 0x7f48632683a0>, <keras.layers.core.dense.Dense object at 0x7f48632191c0>, <keras.layers.core.dense.Dense object at 0x7f48632686a0>]\n"
          ]
        }
      ],
      "source": [
        "vgg_layer_list= vgg.layers\n",
        "print(vgg_layer_list)"
      ]
    },
    {
      "cell_type": "code",
      "execution_count": null,
      "metadata": {
        "colab": {
          "base_uri": "https://localhost:8080/"
        },
        "id": "S_gYaYcRmZMT",
        "outputId": "402c0b38-1107-47c2-d73a-83ecbbf21edd"
      },
      "outputs": [
        {
          "name": "stdout",
          "output_type": "stream",
          "text": [
            "Model: \"sequential\"\n",
            "_________________________________________________________________\n",
            " Layer (type)                Output Shape              Param #   \n",
            "=================================================================\n",
            " block1_conv1 (Conv2D)       (None, 224, 224, 64)      1792      \n",
            "                                                                 \n",
            " block1_conv2 (Conv2D)       (None, 224, 224, 64)      36928     \n",
            "                                                                 \n",
            " block1_pool (MaxPooling2D)  (None, 112, 112, 64)      0         \n",
            "                                                                 \n",
            " block2_conv1 (Conv2D)       (None, 112, 112, 128)     73856     \n",
            "                                                                 \n",
            " block2_conv2 (Conv2D)       (None, 112, 112, 128)     147584    \n",
            "                                                                 \n",
            " block2_pool (MaxPooling2D)  (None, 56, 56, 128)       0         \n",
            "                                                                 \n",
            " block3_conv1 (Conv2D)       (None, 56, 56, 256)       295168    \n",
            "                                                                 \n",
            " block3_conv2 (Conv2D)       (None, 56, 56, 256)       590080    \n",
            "                                                                 \n",
            " block3_conv3 (Conv2D)       (None, 56, 56, 256)       590080    \n",
            "                                                                 \n",
            " block3_conv4 (Conv2D)       (None, 56, 56, 256)       590080    \n",
            "                                                                 \n",
            " block3_pool (MaxPooling2D)  (None, 28, 28, 256)       0         \n",
            "                                                                 \n",
            " block4_conv1 (Conv2D)       (None, 28, 28, 512)       1180160   \n",
            "                                                                 \n",
            " block4_conv2 (Conv2D)       (None, 28, 28, 512)       2359808   \n",
            "                                                                 \n",
            " block4_conv3 (Conv2D)       (None, 28, 28, 512)       2359808   \n",
            "                                                                 \n",
            " block4_conv4 (Conv2D)       (None, 28, 28, 512)       2359808   \n",
            "                                                                 \n",
            " block4_pool (MaxPooling2D)  (None, 14, 14, 512)       0         \n",
            "                                                                 \n",
            " block5_conv1 (Conv2D)       (None, 14, 14, 512)       2359808   \n",
            "                                                                 \n",
            " block5_conv2 (Conv2D)       (None, 14, 14, 512)       2359808   \n",
            "                                                                 \n",
            " block5_conv3 (Conv2D)       (None, 14, 14, 512)       2359808   \n",
            "                                                                 \n",
            " block5_conv4 (Conv2D)       (None, 14, 14, 512)       2359808   \n",
            "                                                                 \n",
            " block5_pool (MaxPooling2D)  (None, 7, 7, 512)         0         \n",
            "                                                                 \n",
            " flatten (Flatten)           (None, 25088)             0         \n",
            "                                                                 \n",
            " fc1 (Dense)                 (None, 4096)              102764544 \n",
            "                                                                 \n",
            " fc2 (Dense)                 (None, 4096)              16781312  \n",
            "                                                                 \n",
            "=================================================================\n",
            "Total params: 139,570,240\n",
            "Trainable params: 139,570,240\n",
            "Non-trainable params: 0\n",
            "_________________________________________________________________\n",
            "None\n"
          ]
        }
      ],
      "source": [
        "model= Sequential()\n",
        "for i in range(len(vgg_layer_list)-1):  \n",
        "    model.add(vgg_layer_list[i])\n",
        "\n",
        "print(model.summary())    \n"
      ]
    },
    {
      "cell_type": "code",
      "execution_count": null,
      "metadata": {
        "id": "ZoyugzHvmmKp"
      },
      "outputs": [],
      "source": [
        "for layers in model.layers:\n",
        "    layers.trainable = False"
      ]
    },
    {
      "cell_type": "code",
      "execution_count": null,
      "metadata": {
        "id": "bnsOxDmDmq-2"
      },
      "outputs": [],
      "source": [
        "model.add(Dense(numberOfClass, activation=\"softmax\"))"
      ]
    },
    {
      "cell_type": "code",
      "execution_count": null,
      "metadata": {
        "colab": {
          "base_uri": "https://localhost:8080/"
        },
        "id": "nKl7XRQ7mwsW",
        "outputId": "239e053a-72e7-4adb-e9ac-4d09db307668"
      },
      "outputs": [
        {
          "name": "stdout",
          "output_type": "stream",
          "text": [
            "Model: \"sequential\"\n",
            "_________________________________________________________________\n",
            " Layer (type)                Output Shape              Param #   \n",
            "=================================================================\n",
            " block1_conv1 (Conv2D)       (None, 224, 224, 64)      1792      \n",
            "                                                                 \n",
            " block1_conv2 (Conv2D)       (None, 224, 224, 64)      36928     \n",
            "                                                                 \n",
            " block1_pool (MaxPooling2D)  (None, 112, 112, 64)      0         \n",
            "                                                                 \n",
            " block2_conv1 (Conv2D)       (None, 112, 112, 128)     73856     \n",
            "                                                                 \n",
            " block2_conv2 (Conv2D)       (None, 112, 112, 128)     147584    \n",
            "                                                                 \n",
            " block2_pool (MaxPooling2D)  (None, 56, 56, 128)       0         \n",
            "                                                                 \n",
            " block3_conv1 (Conv2D)       (None, 56, 56, 256)       295168    \n",
            "                                                                 \n",
            " block3_conv2 (Conv2D)       (None, 56, 56, 256)       590080    \n",
            "                                                                 \n",
            " block3_conv3 (Conv2D)       (None, 56, 56, 256)       590080    \n",
            "                                                                 \n",
            " block3_conv4 (Conv2D)       (None, 56, 56, 256)       590080    \n",
            "                                                                 \n",
            " block3_pool (MaxPooling2D)  (None, 28, 28, 256)       0         \n",
            "                                                                 \n",
            " block4_conv1 (Conv2D)       (None, 28, 28, 512)       1180160   \n",
            "                                                                 \n",
            " block4_conv2 (Conv2D)       (None, 28, 28, 512)       2359808   \n",
            "                                                                 \n",
            " block4_conv3 (Conv2D)       (None, 28, 28, 512)       2359808   \n",
            "                                                                 \n",
            " block4_conv4 (Conv2D)       (None, 28, 28, 512)       2359808   \n",
            "                                                                 \n",
            " block4_pool (MaxPooling2D)  (None, 14, 14, 512)       0         \n",
            "                                                                 \n",
            " block5_conv1 (Conv2D)       (None, 14, 14, 512)       2359808   \n",
            "                                                                 \n",
            " block5_conv2 (Conv2D)       (None, 14, 14, 512)       2359808   \n",
            "                                                                 \n",
            " block5_conv3 (Conv2D)       (None, 14, 14, 512)       2359808   \n",
            "                                                                 \n",
            " block5_conv4 (Conv2D)       (None, 14, 14, 512)       2359808   \n",
            "                                                                 \n",
            " block5_pool (MaxPooling2D)  (None, 7, 7, 512)         0         \n",
            "                                                                 \n",
            " flatten (Flatten)           (None, 25088)             0         \n",
            "                                                                 \n",
            " fc1 (Dense)                 (None, 4096)              102764544 \n",
            "                                                                 \n",
            " fc2 (Dense)                 (None, 4096)              16781312  \n",
            "                                                                 \n",
            " dense (Dense)               (None, 30)                122910    \n",
            "                                                                 \n",
            "=================================================================\n",
            "Total params: 139,693,150\n",
            "Trainable params: 122,910\n",
            "Non-trainable params: 139,570,240\n",
            "_________________________________________________________________\n",
            "None\n"
          ]
        }
      ],
      "source": [
        "print(model.summary())"
      ]
    },
    {
      "cell_type": "code",
      "execution_count": null,
      "metadata": {
        "colab": {
          "base_uri": "https://localhost:8080/"
        },
        "id": "8cDqRMeHm259",
        "outputId": "d082d0aa-2a49-445a-c437-1893f430e8f2"
      },
      "outputs": [
        {
          "name": "stderr",
          "output_type": "stream",
          "text": [
            "/usr/local/lib/python3.8/dist-packages/keras/optimizers/optimizer_v2/rmsprop.py:135: UserWarning: The `lr` argument is deprecated, use `learning_rate` instead.\n",
            "  super(RMSprop, self).__init__(name, **kwargs)\n"
          ]
        }
      ],
      "source": [
        "from keras.optimizers.optimizer_v2.rmsprop import RMSProp\n",
        "optim_1 = RMSProp(lr=0.0001)\n",
        "model.compile(loss=\"categorical_crossentropy\", optimizer=optim_1, metrics=[\"accuracy\"])"
      ]
    },
    {
      "cell_type": "code",
      "execution_count": null,
      "metadata": {
        "colab": {
          "base_uri": "https://localhost:8080/"
        },
        "id": "2T4qkQXnnCOK",
        "outputId": "49af155c-2520-4b1c-973c-765a00466260"
      },
      "outputs": [
        {
          "name": "stdout",
          "output_type": "stream",
          "text": [
            "Found 3601 images belonging to 30 classes.\n",
            "Found 900 images belonging to 30 classes.\n"
          ]
        }
      ],
      "source": [
        "#train\n",
        "train_data= ImageDataGenerator().flow_from_directory(train_path, target_size=(224,224))\n",
        "test_data= ImageDataGenerator().flow_from_directory(test_path, target_size=(224,224))"
      ]
    },
    {
      "cell_type": "code",
      "execution_count": null,
      "metadata": {
        "id": "WzsgPfCwnLtH"
      },
      "outputs": [],
      "source": [
        "batch_size=50"
      ]
    },
    {
      "cell_type": "code",
      "source": [
        "from keras.callbacks import ModelCheckpoint,CSVLogger\n",
        "filepath=\"/content/drive/MyDrive/saved_models/weights-improvementVgg19-{epoch:05d}.ckpt\"\n",
        "checkpoint= ModelCheckpoint(filepath, monitor='val_acc', verbose=1, save_best_only=False,save_freq=5*72, mode='max')\n",
        "#log_csv =CSVLogger('my_logs.csv', separator=',', append=False)\n",
        "callbacks_list =[checkpoint]"
      ],
      "metadata": {
        "id": "EZStQhlcCdD4"
      },
      "execution_count": null,
      "outputs": []
    },
    {
      "cell_type": "code",
      "execution_count": null,
      "metadata": {
        "colab": {
          "background_save": true,
          "base_uri": "https://localhost:8080/"
        },
        "id": "Opr5sh6Vnm95",
        "outputId": "5ed127b6-5490-4453-866d-0a337ee6bffd"
      },
      "outputs": [
        {
          "name": "stderr",
          "output_type": "stream",
          "text": [
            "<ipython-input-18-69e4907365a4>:1: UserWarning: `Model.fit_generator` is deprecated and will be removed in a future version. Please use `Model.fit`, which supports generators.\n",
            "  hist=model.fit_generator(train_data,\n"
          ]
        },
        {
          "name": "stdout",
          "output_type": "stream",
          "text": [
            "Epoch 1/100\n",
            "72/72 [==============================] - 2243s 31s/step - loss: 3.2917 - accuracy: 0.1884 - val_loss: 2.1570 - val_accuracy: 0.3490\n",
            "Epoch 2/100\n",
            "72/72 [==============================] - 1935s 27s/step - loss: 1.4968 - accuracy: 0.5425 - val_loss: 1.3859 - val_accuracy: 0.5573\n",
            "Epoch 3/100\n",
            "72/72 [==============================] - 1903s 26s/step - loss: 1.0237 - accuracy: 0.6680 - val_loss: 1.1089 - val_accuracy: 0.6233\n",
            "Epoch 4/100\n",
            "72/72 [==============================] - 1894s 26s/step - loss: 0.7402 - accuracy: 0.7604 - val_loss: 0.8821 - val_accuracy: 0.7014\n",
            "Epoch 5/100\n",
            "72/72 [==============================] - 1892s 26s/step - loss: 0.5821 - accuracy: 0.8216 - val_loss: 0.7028 - val_accuracy: 0.7656\n",
            "Epoch 6/100\n",
            "72/72 [==============================] - 1890s 26s/step - loss: 0.4829 - accuracy: 0.8529 - val_loss: 0.6651 - val_accuracy: 0.7830\n",
            "Epoch 7/100\n",
            "72/72 [==============================] - 1899s 26s/step - loss: 0.4016 - accuracy: 0.8737 - val_loss: 0.6592 - val_accuracy: 0.7569\n",
            "Epoch 8/100\n",
            "72/72 [==============================] - 1894s 26s/step - loss: 0.3466 - accuracy: 0.8898 - val_loss: 0.5817 - val_accuracy: 0.8003\n",
            "Epoch 9/100\n",
            "72/72 [==============================] - 1886s 26s/step - loss: 0.2972 - accuracy: 0.9102 - val_loss: 0.5926 - val_accuracy: 0.7865\n",
            "Epoch 10/100\n",
            "72/72 [==============================] - 1880s 26s/step - loss: 0.2624 - accuracy: 0.9314 - val_loss: 0.4899 - val_accuracy: 0.8108\n",
            "Epoch 11/100\n",
            "72/72 [==============================] - 1888s 26s/step - loss: 0.2401 - accuracy: 0.9310 - val_loss: 0.5044 - val_accuracy: 0.8108\n",
            "Epoch 12/100\n",
            "72/72 [==============================] - 1891s 26s/step - loss: 0.2261 - accuracy: 0.9414 - val_loss: 0.4859 - val_accuracy: 0.8108\n",
            "Epoch 13/100\n",
            "72/72 [==============================] - 1880s 26s/step - loss: 0.1979 - accuracy: 0.9480 - val_loss: 0.4009 - val_accuracy: 0.8559\n",
            "Epoch 14/100\n",
            "72/72 [==============================] - 1901s 26s/step - loss: 0.1799 - accuracy: 0.9557 - val_loss: 0.4579 - val_accuracy: 0.8299\n",
            "Epoch 15/100\n",
            "72/72 [==============================] - 1906s 27s/step - loss: 0.1576 - accuracy: 0.9596 - val_loss: 0.4324 - val_accuracy: 0.8490\n",
            "Epoch 16/100\n",
            "72/72 [==============================] - 1898s 26s/step - loss: 0.1436 - accuracy: 0.9602 - val_loss: 0.4436 - val_accuracy: 0.8438\n",
            "Epoch 17/100\n",
            "72/72 [==============================] - 1906s 27s/step - loss: 0.1301 - accuracy: 0.9690 - val_loss: 0.4094 - val_accuracy: 0.8455\n",
            "Epoch 18/100\n",
            "72/72 [==============================] - 1908s 27s/step - loss: 0.1168 - accuracy: 0.9716 - val_loss: 0.4147 - val_accuracy: 0.8403\n",
            "Epoch 19/100\n",
            "72/72 [==============================] - 1920s 27s/step - loss: 0.1098 - accuracy: 0.9751 - val_loss: 0.3999 - val_accuracy: 0.8438\n",
            "Epoch 20/100\n",
            "72/72 [==============================] - 1913s 27s/step - loss: 0.1102 - accuracy: 0.9751 - val_loss: 0.4128 - val_accuracy: 0.8438\n",
            "Epoch 21/100\n",
            "72/72 [==============================] - 1915s 27s/step - loss: 0.0957 - accuracy: 0.9795 - val_loss: 0.4162 - val_accuracy: 0.8351\n",
            "Epoch 22/100\n",
            "72/72 [==============================] - 1918s 27s/step - loss: 0.0912 - accuracy: 0.9799 - val_loss: 0.3927 - val_accuracy: 0.8333\n",
            "Epoch 23/100\n",
            "72/72 [==============================] - 1922s 27s/step - loss: 0.0834 - accuracy: 0.9817 - val_loss: 0.3865 - val_accuracy: 0.8611\n",
            "Epoch 24/100\n",
            "72/72 [==============================] - 1934s 27s/step - loss: 0.0807 - accuracy: 0.9799 - val_loss: 0.3975 - val_accuracy: 0.8438\n",
            "Epoch 25/100\n",
            "72/72 [==============================] - 1976s 28s/step - loss: 0.0659 - accuracy: 0.9891 - val_loss: 0.4065 - val_accuracy: 0.8455\n",
            "Epoch 26/100\n",
            "72/72 [==============================] - 1973s 27s/step - loss: 0.0637 - accuracy: 0.9865 - val_loss: 0.4042 - val_accuracy: 0.8351\n",
            "Epoch 27/100\n",
            "72/72 [==============================] - 1973s 27s/step - loss: 0.0551 - accuracy: 0.9900 - val_loss: 0.3311 - val_accuracy: 0.8628\n",
            "Epoch 28/100\n",
            "72/72 [==============================] - 1982s 28s/step - loss: 0.0600 - accuracy: 0.9878 - val_loss: 0.4195 - val_accuracy: 0.8455\n",
            "Epoch 29/100\n",
            "72/72 [==============================] - 1977s 28s/step - loss: 0.0537 - accuracy: 0.9900 - val_loss: 0.3673 - val_accuracy: 0.8576\n",
            "Epoch 30/100\n",
            "72/72 [==============================] - 1970s 27s/step - loss: 0.0480 - accuracy: 0.9930 - val_loss: 0.3662 - val_accuracy: 0.8733\n",
            "Epoch 31/100\n",
            "39/72 [===============>..............] - ETA: 11:55 - loss: 0.0417 - accuracy: 0.9943"
          ]
        }
      ],
      "source": [
        "hist=model.fit_generator(train_data,\n",
        "                         steps_per_epoch=3600//batch_size,\n",
        "                         epochs=100,\n",
        "                         validation_data= test_data,\n",
        "                         validation_steps = 900//batch_size )"
      ]
    },
    {
      "cell_type": "code",
      "source": [
        "hist=model.fit_generator(train_data,\n",
        "                         steps_per_epoch=3600//batch_size,\n",
        "                         epochs=15,\n",
        "                         initial_epoch=0,\n",
        "                         validation_data= test_data,\n",
        "                         validation_steps = 900//batch_size,\n",
        "                         callbacks=callbacks_list)"
      ],
      "metadata": {
        "id": "nDwvK-dz47zd"
      },
      "execution_count": null,
      "outputs": []
    },
    {
      "cell_type": "code",
      "source": [
        "model.load_weights(\"/content/drive/MyDrive/saved_models/weights-improvementVgg19-00015.ckpt\")"
      ],
      "metadata": {
        "id": "0l3kbvWS5SpL"
      },
      "execution_count": null,
      "outputs": []
    },
    {
      "cell_type": "code",
      "source": [
        "hist=model.fit_generator(train_data,\n",
        "                         steps_per_epoch=3600//batch_size,\n",
        "                         epochs=25,\n",
        "                         initial_epoch=15,\n",
        "                         validation_data= test_data,\n",
        "                         validation_steps = 900//batch_size,\n",
        "                         callbacks=callbacks_list)"
      ],
      "metadata": {
        "id": "u47xL_Qw49b6"
      },
      "execution_count": null,
      "outputs": []
    },
    {
      "cell_type": "code",
      "source": [
        "model.load_weights(\"/content/drive/MyDrive/saved_models/weights-improvementVgg19-00025.ckpt\")"
      ],
      "metadata": {
        "id": "bhFhsXP35XhN"
      },
      "execution_count": null,
      "outputs": []
    },
    {
      "cell_type": "code",
      "source": [
        "hist=model.fit_generator(train_data,\n",
        "                         steps_per_epoch=3600//batch_size,\n",
        "                         epochs=40,\n",
        "                         initial_epoch=25,\n",
        "                         validation_data= test_data,\n",
        "                         validation_steps = 900//batch_size,\n",
        "                         callbacks=callbacks_list)"
      ],
      "metadata": {
        "id": "w1HgMNuR49-r"
      },
      "execution_count": null,
      "outputs": []
    },
    {
      "cell_type": "code",
      "source": [
        "model.load_weights(\"/content/drive/MyDrive/saved_models/weights-improvementVgg19-00040.ckpt\")"
      ],
      "metadata": {
        "id": "eT_AIAAb5aQW"
      },
      "execution_count": null,
      "outputs": []
    },
    {
      "cell_type": "code",
      "source": [
        "hist=model.fit_generator(train_data,\n",
        "                         steps_per_epoch=3600//batch_size,\n",
        "                         epochs=50,\n",
        "                         initial_epoch=40,\n",
        "                         validation_data= test_data,\n",
        "                         validation_steps = 900//batch_size,\n",
        "                         callbacks=callbacks_list)"
      ],
      "metadata": {
        "id": "PjprfYBF4-Z-"
      },
      "execution_count": null,
      "outputs": []
    },
    {
      "cell_type": "code",
      "source": [
        "model.load_weights(\"/content/drive/MyDrive/saved_models/weights-improvementVgg19-00050.ckpt\")"
      ],
      "metadata": {
        "id": "wZCrQXkp5cpK"
      },
      "execution_count": null,
      "outputs": []
    },
    {
      "cell_type": "code",
      "source": [
        "hist=model.fit_generator(train_data,\n",
        "                         steps_per_epoch=3600//batch_size,\n",
        "                         epochs=75,\n",
        "                         initial_epoch=50,\n",
        "                         validation_data= test_data,\n",
        "                         validation_steps = 900//batch_size,\n",
        "                         callbacks=callbacks_list)"
      ],
      "metadata": {
        "id": "7gcI4OEd4-q2"
      },
      "execution_count": null,
      "outputs": []
    },
    {
      "cell_type": "code",
      "source": [
        "model.load_weights(\"/content/drive/MyDrive/saved_models/weights-improvementVgg19-00075.ckpt\")"
      ],
      "metadata": {
        "id": "IQgUc6CH5fCb"
      },
      "execution_count": null,
      "outputs": []
    },
    {
      "cell_type": "code",
      "source": [
        "hist=model.fit_generator(train_data,\n",
        "                         steps_per_epoch=3600//batch_size,\n",
        "                         epochs=100,\n",
        "                         initial_epoch=75,\n",
        "                         validation_data= test_data,\n",
        "                         validation_steps = 900//batch_size,\n",
        "                         callbacks=callbacks_list)"
      ],
      "metadata": {
        "id": "i5M1Piii4_Ba"
      },
      "execution_count": null,
      "outputs": []
    },
    {
      "cell_type": "code",
      "source": [
        "model.load_weights(\"/content/drive/MyDrive/saved_models/weights-improvementVgg19-00100.ckpt\")"
      ],
      "metadata": {
        "id": "9GRTjs3T5iQt"
      },
      "execution_count": null,
      "outputs": []
    },
    {
      "cell_type": "code",
      "source": [
        "model.save_weights(\"BaklagilFold1RMSProplr0.0001Vgg19\")"
      ],
      "metadata": {
        "id": "i_swJg5X5uu8"
      },
      "execution_count": null,
      "outputs": []
    }
  ],
  "metadata": {
    "colab": {
      "provenance": [],
      "authorship_tag": "ABX9TyNCMynxccFcxI2p31Xg+ABQ",
      "include_colab_link": true
    },
    "kernelspec": {
      "display_name": "Python 3",
      "name": "python3"
    },
    "language_info": {
      "name": "python"
    }
  },
  "nbformat": 4,
  "nbformat_minor": 0
}